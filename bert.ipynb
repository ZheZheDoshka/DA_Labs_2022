{
 "cells": [
  {
   "cell_type": "code",
   "execution_count": 1,
   "id": "04bd7adc",
   "metadata": {},
   "outputs": [],
   "source": [
    "import numpy as np\n",
    "import pandas as pd\n",
    "import seaborn as sns\n",
    "import matplotlib.pyplot as plt\n",
    "import copy\n",
    "\n",
    "\n",
    "from sklearn.utils import shuffle\n",
    "\n",
    "from sklearn.preprocessing import LabelEncoder\n",
    "from sklearn.model_selection import train_test_split\n",
    "\n",
    "from sklearn import preprocessing\n",
    "\n",
    "import nltk\n",
    "#nltk.download('stopwords')\n",
    "from nltk.corpus import stopwords\n",
    "from nltk import word_tokenize\n",
    "\n",
    "import pymorphy3\n",
    "import re\n",
    "\n",
    "from transformers import AutoTokenizer\n",
    "from transformers import TFAutoModel\n",
    "\n",
    "import tensorflow as tf\n",
    "\n",
    "from keras_preprocessing.sequence import pad_sequences\n",
    "\n",
    "\n",
    "from keras.layers import LSTM, Embedding, Dense, Conv2D, MaxPooling2D, Flatten, Dropout\n",
    "from keras import Sequential\n",
    "from keras.models import save_model, load_model"
   ]
  },
  {
   "cell_type": "code",
   "execution_count": 2,
   "id": "78d54ac9",
   "metadata": {},
   "outputs": [],
   "source": [
    "def remove_stopwords(text, stoplist):\n",
    "    return [word for word in text if word not in stoplist]\n",
    "\n",
    "\n",
    "def remove_punctuation(text):\n",
    "    punctuation = string.punctuation\n",
    "    return ''.join([c if c not in punctuation else ' ' for c in text])\n",
    "\n",
    "\n",
    "def remove_spaces(text):\n",
    "    return re.sub(r'\\s+', ' ', text)\n",
    "\n",
    "\n",
    "def clean_text(data):\n",
    "    cleaned_text = [remove_punctuation(remove_spaces(str(text).lower())) for text in data['text']]\n",
    "    data['text'] = cleaned_text\n",
    "    return data"
   ]
  },
  {
   "cell_type": "code",
   "execution_count": null,
   "id": "20fb1cb4",
   "metadata": {},
   "outputs": [],
   "source": [
    "\n",
    "\n"
   ]
  },
  {
   "cell_type": "code",
   "execution_count": 3,
   "id": "f24a7f53",
   "metadata": {},
   "outputs": [],
   "source": [
    "def lemmatize_text(data):\n",
    "    min_length = 2\n",
    "    stoplist = stopwords.words(\"russian\")\n",
    "    morph = pymorphy3.MorphAnalyzer(lang='ru')  # 'fix'\n",
    "    lemmatized_text = []\n",
    "    for text in data['text']:\n",
    "        text_lem = [morph.parse(word)[0].normal_form for word in text.split(' ')]\n",
    "        text_lem = remove_stopwords(text_lem, stoplist)\n",
    "\n",
    "    if len(text_lem) > min_length:\n",
    "        lemmatized_text.append(' '.join(text_lem))\n",
    "    else:\n",
    "        lemmatized_text.append('')\n",
    "    data['text'] = lemmatized_text\n",
    "    return data\n",
    "\n",
    "def tokenize_text(data):\n",
    "    tokens = tokenizer.encode_plus(data, max_length = max_article_length,\n",
    "                                   truncation=True, padding='max_length',\n",
    "                                   add_special_tokens=True, return_token_type_ids=False,\n",
    "                                   return_tensors='tf')\n",
    "    return tokens['input_ids'], tokens['attention_mask']"
   ]
  },
  {
   "cell_type": "code",
   "execution_count": 4,
   "id": "ec06e880",
   "metadata": {},
   "outputs": [],
   "source": [
    "def load_unprocessed_text_to_df():\n",
    "    filename = \"lenta-ru-train.csv\"\n",
    "    data = pd.read_csv(filename, index_col=False, encoding=\"utf8\", nrows=10000)\n",
    "    df = pd.DataFrame(data)\n",
    "    df['text'] = df['title'].str.ljust(1) + df['text']\n",
    "    df = df.drop(['topic', 'title'], axis=1)\n",
    "    return df\n"
   ]
  },
  {
   "cell_type": "code",
   "execution_count": 5,
   "id": "20f7d0a3",
   "metadata": {},
   "outputs": [],
   "source": [
    "def load_processed_text_to_df():\n",
    "    filename = \"lenta-ru-clean-20k.csv\"\n",
    "    data = pd.read_csv(filename, index_col=False, encoding=\"utf8\", nrows=10000)\n",
    "    df = pd.DataFrame(data) \n",
    "    return df"
   ]
  },
  {
   "cell_type": "code",
   "execution_count": 6,
   "id": "5f4f40e1",
   "metadata": {},
   "outputs": [],
   "source": [
    "#text = load_unprocessed_text_to_df()\n",
    "#text = clean_text(text)\n",
    "#text = lemmatize_text(text)\n",
    "#text.to_csv(lenta-ru-clean-20k.csv)"
   ]
  },
  {
   "cell_type": "code",
   "execution_count": 7,
   "id": "bb52174e",
   "metadata": {},
   "outputs": [],
   "source": [
    "max_article_length = 512"
   ]
  },
  {
   "cell_type": "code",
   "execution_count": 8,
   "id": "5cc045ec",
   "metadata": {},
   "outputs": [
    {
     "data": {
      "text/html": [
       "<div>\n",
       "<style scoped>\n",
       "    .dataframe tbody tr th:only-of-type {\n",
       "        vertical-align: middle;\n",
       "    }\n",
       "\n",
       "    .dataframe tbody tr th {\n",
       "        vertical-align: top;\n",
       "    }\n",
       "\n",
       "    .dataframe thead th {\n",
       "        text-align: right;\n",
       "    }\n",
       "</style>\n",
       "<table border=\"1\" class=\"dataframe\">\n",
       "  <thead>\n",
       "    <tr style=\"text-align: right;\">\n",
       "      <th></th>\n",
       "      <th>Unnamed: 0</th>\n",
       "      <th>text</th>\n",
       "      <th>topic_label</th>\n",
       "    </tr>\n",
       "  </thead>\n",
       "  <tbody>\n",
       "    <tr>\n",
       "      <th>0</th>\n",
       "      <td>0</td>\n",
       "      <td>инфляция январь 2006 год составить 2 6 процент...</td>\n",
       "      <td>0</td>\n",
       "    </tr>\n",
       "    <tr>\n",
       "      <th>1</th>\n",
       "      <td>1</td>\n",
       "      <td>никита михалков учредить день российский киноу...</td>\n",
       "      <td>3</td>\n",
       "    </tr>\n",
       "    <tr>\n",
       "      <th>2</th>\n",
       "      <td>2</td>\n",
       "      <td>марко матерацци вернуться строй матч цскамедиц...</td>\n",
       "      <td>1</td>\n",
       "    </tr>\n",
       "    <tr>\n",
       "      <th>3</th>\n",
       "      <td>3</td>\n",
       "      <td>определить лауреат премия  книга год премия  к...</td>\n",
       "      <td>3</td>\n",
       "    </tr>\n",
       "    <tr>\n",
       "      <th>4</th>\n",
       "      <td>4</td>\n",
       "      <td>гол роналда штрафной спасти португалец поражен...</td>\n",
       "      <td>1</td>\n",
       "    </tr>\n",
       "  </tbody>\n",
       "</table>\n",
       "</div>"
      ],
      "text/plain": [
       "   Unnamed: 0                                               text  topic_label\n",
       "0           0  инфляция январь 2006 год составить 2 6 процент...            0\n",
       "1           1  никита михалков учредить день российский киноу...            3\n",
       "2           2  марко матерацци вернуться строй матч цскамедиц...            1\n",
       "3           3  определить лауреат премия  книга год премия  к...            3\n",
       "4           4  гол роналда штрафной спасти португалец поражен...            1"
      ]
     },
     "execution_count": 8,
     "metadata": {},
     "output_type": "execute_result"
    }
   ],
   "source": [
    "text = load_processed_text_to_df()\n",
    "text.head()"
   ]
  },
  {
   "cell_type": "code",
   "execution_count": 9,
   "id": "e1424ffa",
   "metadata": {
    "scrolled": true
   },
   "outputs": [],
   "source": [
    "train, test_val = train_test_split(text, test_size=0.5,  random_state = 0)\n",
    "test, val = train_test_split(test_val, test_size=0.4,  random_state = 0)\n",
    "train = train.reset_index(drop=True)\n",
    "test = test.reset_index(drop=True)\n",
    "val = val.reset_index(drop=True)"
   ]
  },
  {
   "cell_type": "code",
   "execution_count": 10,
   "id": "9e832359",
   "metadata": {},
   "outputs": [],
   "source": [
    "text_id = np.zeros((len(train), max_article_length))\n",
    "text_masks = np.zeros((len(train), max_article_length))\n",
    "\n",
    "test_id = np.zeros((len(test), max_article_length))\n",
    "test_masks = np.zeros((len(test), max_article_length))\n",
    "\n",
    "\n",
    "val_id = np.zeros((len(val), max_article_length))\n",
    "val_masks = np.zeros((len(val), max_article_length))"
   ]
  },
  {
   "cell_type": "code",
   "execution_count": null,
   "id": "d1b95b6c",
   "metadata": {},
   "outputs": [],
   "source": []
  },
  {
   "cell_type": "code",
   "execution_count": 11,
   "id": "d7e3af18",
   "metadata": {},
   "outputs": [],
   "source": [
    "tokenizer = AutoTokenizer.from_pretrained(\"Geotrend/bert-base-ru-cased\")\n",
    "for i in range(len(train)):\n",
    "    tokens = tokenize_text(train['text'][i])\n",
    "    text_id[i], text_masks[i] = tokens[0], tokens[1]\n",
    "\n",
    "\n",
    "for i in range(len(test)):\n",
    "    tokens = tokenize_text(test['text'][i])\n",
    "    test_id[i], test_masks[i] = tokens[0], tokens[1]\n",
    "\n",
    "for i in range(len(val)):\n",
    "    tokens = tokenize_text(val['text'][i])\n",
    "    val_id[i], val_masks[i] = tokens[0], tokens[1]\n"
   ]
  },
  {
   "cell_type": "code",
   "execution_count": 12,
   "id": "24f7afd5",
   "metadata": {},
   "outputs": [],
   "source": [
    "Y_test = test['topic_label']\n",
    "Y_train = train['topic_label']\n",
    "Y_val = val['topic_label']"
   ]
  },
  {
   "cell_type": "code",
   "execution_count": 13,
   "id": "e0be295e",
   "metadata": {},
   "outputs": [
    {
     "name": "stderr",
     "output_type": "stream",
     "text": [
      "Some layers from the model checkpoint at Geotrend/bert-base-ru-cased were not used when initializing TFBertModel: ['mlm___cls']\n",
      "- This IS expected if you are initializing TFBertModel from the checkpoint of a model trained on another task or with another architecture (e.g. initializing a BertForSequenceClassification model from a BertForPreTraining model).\n",
      "- This IS NOT expected if you are initializing TFBertModel from the checkpoint of a model that you expect to be exactly identical (initializing a BertForSequenceClassification model from a BertForSequenceClassification model).\n",
      "All the layers of TFBertModel were initialized from the model checkpoint at Geotrend/bert-base-ru-cased.\n",
      "If your task is similar to the task the model of the checkpoint was trained on, you can already use TFBertModel for predictions without further training.\n"
     ]
    }
   ],
   "source": [
    "bert = TFAutoModel.from_pretrained(\"Geotrend/bert-base-ru-cased\")"
   ]
  },
  {
   "cell_type": "code",
   "execution_count": 14,
   "id": "c23d5958",
   "metadata": {},
   "outputs": [
    {
     "name": "stdout",
     "output_type": "stream",
     "text": [
      "Model: \"tf_bert_model\"\n",
      "_________________________________________________________________\n",
      " Layer (type)                Output Shape              Param #   \n",
      "=================================================================\n",
      " bert (TFBertMainLayer)      multiple                  97010688  \n",
      "                                                                 \n",
      "=================================================================\n",
      "Total params: 97,010,688\n",
      "Trainable params: 97,010,688\n",
      "Non-trainable params: 0\n",
      "_________________________________________________________________\n"
     ]
    }
   ],
   "source": [
    "bert.summary()"
   ]
  },
  {
   "cell_type": "code",
   "execution_count": 15,
   "id": "afdfe9dc",
   "metadata": {},
   "outputs": [
    {
     "data": {
      "text/plain": [
       "400071680"
      ]
     },
     "execution_count": 15,
     "metadata": {},
     "output_type": "execute_result"
    }
   ],
   "source": [
    "tf.config.experimental.get_memory_info('GPU:0')['current']"
   ]
  },
  {
   "cell_type": "code",
   "execution_count": 16,
   "id": "07e27153",
   "metadata": {},
   "outputs": [],
   "source": [
    "input_layer = tf.keras.layers.Input(shape=(max_article_length,), name='input', dtype='int32')\n",
    "mask = tf.keras.layers.Input(shape=(max_article_length,), name='attention_mask', dtype='int32')\n",
    "\n",
    "embeddings = bert.bert(input_layer, attention_mask=mask)[1]\n",
    "\n",
    "\n",
    "x = tf.keras.layers.Dense(128, activation ='relu')(embeddings)\n",
    "y = tf.keras.layers.Dense(6, activation ='softmax', name='output')(x)\n",
    "\n",
    "model = tf.keras.Model(inputs=[input_layer, mask], outputs=y)\n",
    "\n",
    "model.layers[2].trainable = False"
   ]
  },
  {
   "cell_type": "code",
   "execution_count": 17,
   "id": "bfd5f7ff",
   "metadata": {},
   "outputs": [
    {
     "name": "stdout",
     "output_type": "stream",
     "text": [
      "Model: \"model\"\n",
      "__________________________________________________________________________________________________\n",
      " Layer (type)                   Output Shape         Param #     Connected to                     \n",
      "==================================================================================================\n",
      " input (InputLayer)             [(None, 512)]        0           []                               \n",
      "                                                                                                  \n",
      " attention_mask (InputLayer)    [(None, 512)]        0           []                               \n",
      "                                                                                                  \n",
      " bert (TFBertMainLayer)         TFBaseModelOutputWi  97010688    ['input[0][0]',                  \n",
      "                                thPoolingAndCrossAt               'attention_mask[0][0]']         \n",
      "                                tentions(last_hidde                                               \n",
      "                                n_state=(None, 512,                                               \n",
      "                                 768),                                                            \n",
      "                                 pooler_output=(Non                                               \n",
      "                                e, 768),                                                          \n",
      "                                 past_key_values=No                                               \n",
      "                                ne, hidden_states=N                                               \n",
      "                                one, attentions=Non                                               \n",
      "                                e, cross_attentions                                               \n",
      "                                =None)                                                            \n",
      "                                                                                                  \n",
      " dense (Dense)                  (None, 128)          98432       ['bert[0][1]']                   \n",
      "                                                                                                  \n",
      " output (Dense)                 (None, 6)            774         ['dense[0][0]']                  \n",
      "                                                                                                  \n",
      "==================================================================================================\n",
      "Total params: 97,109,894\n",
      "Trainable params: 99,206\n",
      "Non-trainable params: 97,010,688\n",
      "__________________________________________________________________________________________________\n"
     ]
    }
   ],
   "source": [
    "model.summary()"
   ]
  },
  {
   "cell_type": "code",
   "execution_count": 18,
   "id": "f63aa907",
   "metadata": {},
   "outputs": [
    {
     "data": {
      "text/plain": [
       "400469760"
      ]
     },
     "execution_count": 18,
     "metadata": {},
     "output_type": "execute_result"
    }
   ],
   "source": [
    "tf.config.experimental.get_memory_info('GPU:0')['current']"
   ]
  },
  {
   "cell_type": "code",
   "execution_count": 19,
   "id": "7ad203f4",
   "metadata": {},
   "outputs": [],
   "source": [
    "model.compile(optimizer='adam',\n",
    "                      loss='sparse_categorical_crossentropy',\n",
    "                      metrics=['accuracy'])"
   ]
  },
  {
   "cell_type": "code",
   "execution_count": null,
   "id": "cefcd5ba",
   "metadata": {},
   "outputs": [],
   "source": []
  },
  {
   "cell_type": "code",
   "execution_count": 20,
   "id": "de84a2aa",
   "metadata": {},
   "outputs": [],
   "source": [
    "batch_size = 16"
   ]
  },
  {
   "cell_type": "code",
   "execution_count": 21,
   "id": "5a1ae9ef",
   "metadata": {
    "scrolled": false
   },
   "outputs": [
    {
     "name": "stdout",
     "output_type": "stream",
     "text": [
      "Epoch 1/15\n",
      "50/50 [==============================] - 148s 3s/step - loss: 1.4888 - accuracy: 0.3375 - val_loss: 1.3003 - val_accuracy: 0.3542\n",
      "Epoch 2/15\n",
      "50/50 [==============================] - 127s 3s/step - loss: 1.2037 - accuracy: 0.5387 - val_loss: 1.0901 - val_accuracy: 0.6208\n",
      "Epoch 3/15\n",
      "50/50 [==============================] - 127s 3s/step - loss: 1.0957 - accuracy: 0.6087 - val_loss: 0.9529 - val_accuracy: 0.6667\n",
      "Epoch 4/15\n",
      "50/50 [==============================] - 128s 3s/step - loss: 0.9861 - accuracy: 0.6662 - val_loss: 0.8671 - val_accuracy: 0.7542\n",
      "Epoch 5/15\n",
      "50/50 [==============================] - 128s 3s/step - loss: 0.8505 - accuracy: 0.7237 - val_loss: 0.7419 - val_accuracy: 0.8000\n",
      "Epoch 6/15\n",
      "50/50 [==============================] - 129s 3s/step - loss: 0.8129 - accuracy: 0.7362 - val_loss: 0.6610 - val_accuracy: 0.8125\n",
      "Epoch 7/15\n",
      "50/50 [==============================] - 127s 3s/step - loss: 0.7403 - accuracy: 0.7614 - val_loss: 0.6207 - val_accuracy: 0.8375\n",
      "Epoch 8/15\n",
      "50/50 [==============================] - 128s 3s/step - loss: 0.7239 - accuracy: 0.7538 - val_loss: 0.6076 - val_accuracy: 0.8208\n",
      "Epoch 9/15\n",
      "50/50 [==============================] - 128s 3s/step - loss: 0.6810 - accuracy: 0.8037 - val_loss: 0.5644 - val_accuracy: 0.8208\n",
      "Epoch 10/15\n",
      "50/50 [==============================] - 128s 3s/step - loss: 0.6621 - accuracy: 0.7862 - val_loss: 0.6010 - val_accuracy: 0.8333\n",
      "Epoch 11/15\n",
      "50/50 [==============================] - 128s 3s/step - loss: 0.6240 - accuracy: 0.8025 - val_loss: 0.5324 - val_accuracy: 0.8750\n",
      "Epoch 12/15\n",
      "50/50 [==============================] - 128s 3s/step - loss: 0.6292 - accuracy: 0.8012 - val_loss: 0.5037 - val_accuracy: 0.8500\n",
      "Epoch 13/15\n",
      "50/50 [==============================] - 127s 3s/step - loss: 0.5756 - accuracy: 0.8018 - val_loss: 0.5235 - val_accuracy: 0.8500\n",
      "Epoch 14/15\n",
      "50/50 [==============================] - 129s 3s/step - loss: 0.5842 - accuracy: 0.8163 - val_loss: 0.5415 - val_accuracy: 0.8333\n",
      "Epoch 15/15\n",
      "50/50 [==============================] - 130s 3s/step - loss: 0.5960 - accuracy: 0.7912 - val_loss: 0.5751 - val_accuracy: 0.8250\n"
     ]
    }
   ],
   "source": [
    "history = model.fit(\n",
    "    [text_id, text_masks], Y_train,\n",
    "    batch_size = 16,\n",
    "    verbose = 1,\n",
    "    validation_data = ([val_id, val_masks], Y_val),\n",
    "    epochs=15,\n",
    "    steps_per_epoch = 50,\n",
    "    validation_steps = 15)"
   ]
  },
  {
   "cell_type": "code",
   "execution_count": 22,
   "id": "502c0540",
   "metadata": {},
   "outputs": [],
   "source": [
    "model.save_weights(\"bert\")"
   ]
  },
  {
   "cell_type": "code",
   "execution_count": 20,
   "id": "3688f50f",
   "metadata": {},
   "outputs": [
    {
     "data": {
      "text/plain": [
       "<tensorflow.python.checkpoint.checkpoint.CheckpointLoadStatus at 0x26eb45eb6a0>"
      ]
     },
     "execution_count": 20,
     "metadata": {},
     "output_type": "execute_result"
    }
   ],
   "source": [
    "model.load_weights(\"bert\")"
   ]
  },
  {
   "cell_type": "code",
   "execution_count": 24,
   "id": "ccd186a3",
   "metadata": {},
   "outputs": [],
   "source": [
    "def print_history(history):\n",
    "    fig = plt.figure(figsize=(15,4))\n",
    "    fig.add_subplot(121)\n",
    "    plt.plot(history.history['accuracy'])\n",
    "    plt.plot(history.history['val_accuracy'])\n",
    "    plt.legend(['Training accuracy', 'Validation accuracy'])\n",
    "    plt.title('Training and validation accuracy')\n",
    "    plt.xlabel('Epoch Number')\n",
    "    plt.ylabel('Accuracy')\n",
    "\n",
    "    fig.add_subplot(122)\n",
    "    plt.plot(history.history['loss'])\n",
    "    plt.plot(history.history['val_loss'])\n",
    "    plt.legend(['Training loss', 'Validation loss'])\n",
    "    plt.title('Training and validation loss')\n",
    "    plt.xlabel('Epoch Number')\n",
    "    plt.ylabel('Loss')\n",
    "    plt.show()"
   ]
  },
  {
   "cell_type": "code",
   "execution_count": 25,
   "id": "ed20ff9e",
   "metadata": {},
   "outputs": [
    {
     "data": {
      "text/plain": [
       "<Figure size 1500x400 with 0 Axes>"
      ]
     },
     "metadata": {},
     "output_type": "display_data"
    },
    {
     "data": {
      "image/png": "[encoded data removed]",
      "text/plain": [
       "<Figure size 1500x400 with 2 Axes>"
      ]
     },
     "metadata": {},
     "output_type": "display_data"
    }
   ],
   "source": [
    "fig = plt.figure(figsize=(15,4))\n",
    "print_history(history)"
   ]
  },
  {
   "cell_type": "code",
   "execution_count": 26,
   "id": "2c575217",
   "metadata": {},
   "outputs": [
    {
     "name": "stdout",
     "output_type": "stream",
     "text": [
      "188/188 [==============================] - 338s 2s/step - loss: 0.4905 - accuracy: 0.8480\n"
     ]
    },
    {
     "data": {
      "text/plain": [
       "[0.4904754161834717, 0.8479999899864197]"
      ]
     },
     "execution_count": 26,
     "metadata": {},
     "output_type": "execute_result"
    }
   ],
   "source": [
    "model.evaluate(\n",
    "    x=[test_id, test_masks],\n",
    "    y=Y_test,\n",
    "    batch_size=16)"
   ]
  },
  {
   "cell_type": "code",
   "execution_count": 21,
   "id": "1a125675",
   "metadata": {},
   "outputs": [
    {
     "name": "stdout",
     "output_type": "stream",
     "text": [
      "Epoch 1/2\n",
      "80/80 [==============================] - 183s 2s/step - loss: 0.5781 - accuracy: 0.8070\n",
      "Epoch 2/2\n",
      "80/80 [==============================] - 164s 2s/step - loss: 0.5348 - accuracy: 0.8258\n"
     ]
    }
   ],
   "source": [
    "history = model.fit(\n",
    "    [text_id, text_masks], Y_train,\n",
    "    batch_size = 16,\n",
    "    verbose = 1,\n",
    "    epochs=2,\n",
    "    steps_per_epoch = 80)"
   ]
  },
  {
   "cell_type": "code",
   "execution_count": 22,
   "id": "c2730384",
   "metadata": {},
   "outputs": [
    {
     "name": "stdout",
     "output_type": "stream",
     "text": [
      "188/188 [==============================] - 337s 2s/step - loss: 0.4199 - accuracy: 0.8683\n"
     ]
    },
    {
     "data": {
      "text/plain": [
       "[0.4198564887046814, 0.8683333396911621]"
      ]
     },
     "execution_count": 22,
     "metadata": {},
     "output_type": "execute_result"
    }
   ],
   "source": [
    "model.evaluate(\n",
    "    x=[test_id, test_masks],\n",
    "    y=Y_test,\n",
    "    batch_size=16)"
   ]
  },
  {
   "cell_type": "code",
   "execution_count": 23,
   "id": "f072b9fb",
   "metadata": {},
   "outputs": [],
   "source": [
    "model.save_weights(\"bert\")"
   ]
  },
  {
   "cell_type": "code",
   "execution_count": 26,
   "id": "f84fceec",
   "metadata": {},
   "outputs": [
    {
     "data": {
      "text/plain": [
       "<tensorflow.python.checkpoint.checkpoint.CheckpointLoadStatus at 0x26e2fcf1ac0>"
      ]
     },
     "execution_count": 26,
     "metadata": {},
     "output_type": "execute_result"
    }
   ],
   "source": [
    "model.load_weights(\"bert\")"
   ]
  }
 ],
 "metadata": {
  "kernelspec": {
   "display_name": "Python 3 (ipykernel)",
   "language": "python",
   "name": "python3"
  },
  "language_info": {
   "codemirror_mode": {
    "name": "ipython",
    "version": 3
   },
   "file_extension": ".py",
   "mimetype": "text/x-python",
   "name": "python",
   "nbconvert_exporter": "python",
   "pygments_lexer": "ipython3",
   "version": "3.9.12"
  }
 },
 "nbformat": 4,
 "nbformat_minor": 5
}
